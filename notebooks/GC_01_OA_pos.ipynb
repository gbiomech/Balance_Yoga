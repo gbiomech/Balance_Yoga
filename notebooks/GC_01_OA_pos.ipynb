{
 "cells": [
  {
   "cell_type": "code",
   "execution_count": 1,
   "metadata": {
    "scrolled": true
   },
   "outputs": [
    {
     "ename": "ModuleNotFoundError",
     "evalue": "No module named 'hyperellipsoid'",
     "output_type": "error",
     "traceback": [
      "\u001b[0;31m---------------------------------------------------------------------------\u001b[0m",
      "\u001b[0;31mModuleNotFoundError\u001b[0m                       Traceback (most recent call last)",
      "\u001b[0;32m<ipython-input-1-e89e3e0696ce>\u001b[0m in \u001b[0;36m<module>\u001b[0;34m()\u001b[0m\n\u001b[1;32m      6\u001b[0m \u001b[0;32mimport\u001b[0m \u001b[0msys\u001b[0m\u001b[0;34m\u001b[0m\u001b[0m\n\u001b[1;32m      7\u001b[0m \u001b[0msys\u001b[0m\u001b[0;34m.\u001b[0m\u001b[0mpath\u001b[0m\u001b[0;34m.\u001b[0m\u001b[0minsert\u001b[0m\u001b[0;34m(\u001b[0m\u001b[0;36m1\u001b[0m\u001b[0;34m,\u001b[0m \u001b[0;34mr'./../functions'\u001b[0m\u001b[0;34m)\u001b[0m  \u001b[0;31m# add to pythonpath\u001b[0m\u001b[0;34m\u001b[0m\u001b[0m\n\u001b[0;32m----> 8\u001b[0;31m \u001b[0;32mfrom\u001b[0m \u001b[0mhyperellipsoid\u001b[0m \u001b[0;32mimport\u001b[0m \u001b[0mhyperellipsoid\u001b[0m\u001b[0;34m\u001b[0m\u001b[0m\n\u001b[0m\u001b[1;32m      9\u001b[0m \u001b[0;32mfrom\u001b[0m \u001b[0mpsd\u001b[0m \u001b[0;32mimport\u001b[0m \u001b[0mpsd\u001b[0m\u001b[0;34m\u001b[0m\u001b[0m\n\u001b[1;32m     10\u001b[0m \u001b[0;32mimport\u001b[0m \u001b[0mtkinter\u001b[0m \u001b[0;32mas\u001b[0m \u001b[0mtk\u001b[0m\u001b[0;34m\u001b[0m\u001b[0m\n",
      "\u001b[0;31mModuleNotFoundError\u001b[0m: No module named 'hyperellipsoid'"
     ]
    }
   ],
   "source": [
    "import numpy as np\n",
    "%matplotlib inline\n",
    "import matplotlib.pyplot as plt\n",
    "from scipy.signal import butter, filtfilt\n",
    "from scipy.signal import detrend\n",
    "import sys\n",
    "sys.path.insert(1, r'./../functions')  # add to pythonpath \n",
    "from hyperellipsoid import hyperellipsoid\n",
    "from psd import psd\n",
    "import tkinter as tk\n",
    "from tkinter import filedialog\n",
    "from IPython.display import HTML"
   ]
  },
  {
   "cell_type": "code",
   "execution_count": null,
   "metadata": {
    "scrolled": true
   },
   "outputs": [],
   "source": [
    "HTML('''<script>\n",
    "code_show=true; \n",
    "function code_toggle() {\n",
    " if (code_show){\n",
    " $('div.input').hide();\n",
    " } else {\n",
    " $('div.input').show();\n",
    " }\n",
    " code_show = !code_show\n",
    "} \n",
    "$( document ).ready(code_toggle);\n",
    "</script>\n",
    "<form action=\"javascript:code_toggle()\"><input type=\"submit\" value=\"Click here to toggle on/off the raw code.\"></form>''')"
   ]
  },
  {
   "cell_type": "code",
   "execution_count": null,
   "metadata": {
    "scrolled": true
   },
   "outputs": [],
   "source": [
    "root = tk.Tk()\n",
    "root.withdraw()\n",
    "file_path = filedialog.askopenfilename(initialdir='./../data/')\n",
    "fx, fy, fz, mx, my, mz = np.loadtxt(file_path, delimiter=',', unpack=True)\n",
    "fx = fx[10000:40000]\n",
    "fy = fy[10000:40000]\n",
    "fz = fz[10000:40000]\n",
    "mx = mx[10000:40000]\n",
    "my = my[10000:40000]\n",
    "mz = mz[10000:40000]\n",
    "COPap = (-my / fz) * 100\n",
    "COPml = (mx / fz) * 100\n",
    "freq = 1000\n",
    "b, a = butter(4, (5/(freq/2)), btype = 'low')\n",
    "COPap = filtfilt(b, a, COPap)\n",
    "COPml = filtfilt(b, a, COPml)\n",
    "fx_filt = filtfilt(b, a, fx)\n",
    "fy_filt = filtfilt(b, a, fy)\n",
    "fz_filt = filtfilt(b, a, fz)\n",
    "COPap = detrend(COPap, axis=0, type='constant')\n",
    "COPml = detrend(COPml, axis=0, type='constant')\n",
    "t = np.linspace(0, COPap.shape[0]/freq, COPap.shape[0])\n",
    "line_zero = np.zeros_like(fx_filt)"
   ]
  },
  {
   "cell_type": "markdown",
   "metadata": {},
   "source": [
    "# Ground Reaction Forces"
   ]
  },
  {
   "cell_type": "code",
   "execution_count": null,
   "metadata": {
    "scrolled": false
   },
   "outputs": [],
   "source": [
    "fig = plt.figure(figsize = (8, 5))\n",
    "ax1 = fig.add_subplot(311)\n",
    "ax1.plot(t, fx_filt, 'b')\n",
    "#ax1.fill(t, fx_filt, 'b', alpha=0.25)\n",
    "#ax1.fill_between(t, line_zero, fx_filt>0, 'b', alpha=0.25)\n",
    "ax1.fill_between(t, fx_filt, where=fx_filt>=line_zero, interpolate=True, color='blue', alpha=0.15)\n",
    "ax1.set_ylim([min(fx_filt), max(fx_filt)])\n",
    "ax1.set_title('Fx', fontsize=16)\n",
    "ax1.grid()\n",
    "ax2 = fig.add_subplot(312)\n",
    "ax2.plot(t, fy_filt, 'g')\n",
    "ax2.fill_between(t, fy_filt, where=fy_filt>=line_zero, interpolate=True, color='green', alpha=0.15)\n",
    "ax2.set_ylim([min(fy_filt), max(fy_filt)])\n",
    "ax2.set_title('Fy', fontsize=16)\n",
    "fig.text(0, 0.5, 'Force (N)', ha='center', va='center',\n",
    "         rotation='vertical', fontsize=12)\n",
    "ax2.grid()\n",
    "ax3 = fig.add_subplot(313)\n",
    "ax3.plot(t, fz_filt, 'r')\n",
    "ax3.fill_between(t, fz_filt, where=fz_filt>=line_zero, interpolate=True, color='red', alpha=0.15)\n",
    "ax3.set_ylim([min(fz_filt), max(fz_filt)])\n",
    "ax3.set_title('Fz', fontsize=16)\n",
    "ax3.grid()\n",
    "ax3.set_xlabel('Time (s)', fontsize=12)\n",
    "plt.tight_layout()"
   ]
  },
  {
   "cell_type": "code",
   "execution_count": null,
   "metadata": {
    "scrolled": true
   },
   "outputs": [],
   "source": [
    "def cop_plot(freq, COPap, COPml, units='cm'):\n",
    "    '''\n",
    "    Plot COP data from postural sway measurement.\n",
    "    '''\n",
    "    import matplotlib.gridspec as gridspec\n",
    "    t = np.linspace(0, COPap.shape[0]/freq, COPap.shape[0])\n",
    "    plt.rc('axes', labelsize=16,  titlesize=16)\n",
    "    plt.rc('xtick', labelsize=12)\n",
    "    plt.rc('ytick', labelsize=12)\n",
    "    plt.figure(figsize=(10, 4))\n",
    "    gs = gridspec.GridSpec(1, 2, width_ratios=[2, 1]) \n",
    "    ax1 = plt.subplot(gs[0])\n",
    "    ax1.plot(t, COPap, lw=2, color=[0, 0, 1, 1], label='ap')\n",
    "    ax1.plot(t, COPml, lw=2, color=[1, 0, 0, 1], label='ml')\n",
    "    ax1.set_xlim([t[0], t[-1]])\n",
    "    ax1.grid()\n",
    "    ax1.locator_params(axis='both', nbins=5)\n",
    "    ax1.set_xlabel('Time [s]')\n",
    "    ax1.set_ylabel('COP [%s]' %units)\n",
    "    ax1.set_title('Stabilogram')\n",
    "    ax1.legend(fontsize=12, loc='best', framealpha=.5)\n",
    "    ax2 = plt.subplot(gs[1])\n",
    "    ax2.plot(COPml, COPap, lw=2, color='g')\n",
    "    ax2.set_xlabel('COP ml [%s]' %units)\n",
    "    ax2.set_ylabel('COP ap [%s]' %units)\n",
    "    ax2.set_title('Statokinesigram')\n",
    "    if 0:  # plot the axes with the same colors of the COP data\n",
    "        ax2.xaxis.label.set_color('red')\n",
    "        ax2.spines['bottom'].set_color('red')\n",
    "        ax2.tick_params(axis='x', colors='red')\n",
    "        ax2.yaxis.label.set_color('blue')\n",
    "        ax2.spines['left'].set_color('blue')\n",
    "        ax2.tick_params(axis='y', colors='blue')\n",
    "    ax2.grid()\n",
    "    ax2.locator_params(axis='both', nbins=5)\n",
    "    plt.tight_layout()\n",
    "    plt.show()"
   ]
  },
  {
   "cell_type": "markdown",
   "metadata": {},
   "source": [
    "## Center of Pressure (COP) in Anterior-posterior (COPap) and Medial-lateral (COPml) directions"
   ]
  },
  {
   "cell_type": "code",
   "execution_count": null,
   "metadata": {
    "scrolled": true
   },
   "outputs": [],
   "source": [
    "cop_plot(freq, COPap, COPml)"
   ]
  },
  {
   "cell_type": "code",
   "execution_count": null,
   "metadata": {
    "scrolled": true
   },
   "outputs": [],
   "source": [
    "deslocamento_total_COP = sum(np.sqrt((COPap**2 + COPml**2)));\n",
    "perimetro_COPap = sum(abs(np.diff(COPap)));\n",
    "perimetro_COPml = sum(abs(np.diff(COPml)));\n",
    "vel_media_COPap = sum(abs(np.diff(COPap)))*(freq/COPap.shape[0]);\n",
    "vel_media_COPml = sum(abs(np.diff(COPml)))*(freq/COPml.shape[0]);\n",
    "vel_media_total_COP = sum(np.sqrt(np.diff(COPap)**2+np.diff(COPml)**2))*(freq/COPap.shape[0]);\n",
    "print(\"COP Total Displacement: \",deslocamento_total_COP)\n",
    "print(\"COPap perimeter: \",perimetro_COPap)\n",
    "print(\"COPml perimeter: \",perimetro_COPml)\n",
    "print(\"COPap Mean Velocity: \",vel_media_COPap)\n",
    "print(\"COPml Mean Velocity: \",vel_media_COPml)\n",
    "print(\"COP Total Mean Velocity: \",vel_media_total_COP)"
   ]
  },
  {
   "cell_type": "markdown",
   "metadata": {},
   "source": [
    "# Prediction Ellipse Area 95%"
   ]
  },
  {
   "cell_type": "code",
   "execution_count": null,
   "metadata": {
    "scrolled": true
   },
   "outputs": [],
   "source": [
    "area, axes, angles, center, R = hyperellipsoid(COPml, COPap, units='cm', show=True)\n",
    "print('Area =', area)\n",
    "print('Semi-axes =', axes)\n",
    "print('Angles =', angles)\n",
    "print('Center =', center)\n",
    "print('Rotation matrix =\\n', R)"
   ]
  },
  {
   "cell_type": "markdown",
   "metadata": {},
   "source": [
    "# Spectral Analysis of Center of Pressure in Anterior-posterior direction"
   ]
  },
  {
   "cell_type": "code",
   "execution_count": null,
   "metadata": {},
   "outputs": [],
   "source": [
    "fp_ap, mf_ap, fmax_ap, Ptot_ap, F, P_ap = psd(COPap, fs=freq, scales='linear', xlim=[0, 2], units='cm')"
   ]
  },
  {
   "cell_type": "markdown",
   "metadata": {},
   "source": [
    "# Spectral Analysis of Center of Pressure in Medial-lateral direction"
   ]
  },
  {
   "cell_type": "code",
   "execution_count": null,
   "metadata": {},
   "outputs": [],
   "source": [
    "fp_ml, mf_ml, fmax_ml, Ptot_ml, F, P_ml = psd(COPml, fs=freq, xlim=[0, 2], units='cm')"
   ]
  }
 ],
 "metadata": {
  "kernelspec": {
   "display_name": "Python 3",
   "language": "python",
   "name": "python3"
  },
  "language_info": {
   "codemirror_mode": {
    "name": "ipython",
    "version": 3
   },
   "file_extension": ".py",
   "mimetype": "text/x-python",
   "name": "python",
   "nbconvert_exporter": "python",
   "pygments_lexer": "ipython3",
   "version": "3.7.0"
  }
 },
 "nbformat": 4,
 "nbformat_minor": 2
}
